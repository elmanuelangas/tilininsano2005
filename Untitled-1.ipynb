{
 "cells": [
  {
   "cell_type": "code",
   "execution_count": 9,
   "metadata": {},
   "outputs": [
    {
     "name": "stdout",
     "output_type": "stream",
     "text": [
      "Que fecha es el dia de hoy\n",
      "¿cuando es tu ciumpleños?\n",
      "nos es tu cumple hermano que triste xd\n"
     ]
    }
   ],
   "source": [
    "#pregunta que fecha es hoy\n",
    "print(\"Que fecha es el dia de hoy\")\n",
    "fecha = input(\"ingrese una fecha cualquiera\")\n",
    "#pregunta que dia es tu cumpleaños para  que la variable fecha de nacimiento te de si es po no tu cumpleaños\n",
    "print(\"¿cuando es tu cumpleños?\")\n",
    "fecha_de_nacimiento = input (\"ingrese tu fecha de cumnpleaños\")\n",
    "if fecha == fecha_de_nacimiento:\n",
    "    print(\"muchas felicidades y muy feliz cumpleaños plebe\")\n",
    "else:\n",
    "    print(\"nos es tu cumple hermano que triste xd\")"
   ]
  },
  {
   "cell_type": "code",
   "execution_count": 12,
   "metadata": {},
   "outputs": [
    {
     "name": "stdout",
     "output_type": "stream",
     "text": [
      "Para que los valores sean iguales:\n",
      "Valor1: 10.0\n",
      "Valor2: 10.0\n"
     ]
    }
   ],
   "source": [
    "\n",
    "numero1 = float(input(\"Ingrese el primer multiplicacion: \"))\n",
    "numero2 = float(input(\"Ingrese el segundo ingresa tu suma: \"))\n",
    "\n",
    "\n",
    "resultado_numero1 = numero1 * 5\n",
    "resultado_numero2 = numero2 + 3\n",
    "\n",
    "print(\"Para que los valores sean iguales:\")\n",
    "print(\"Valor1:\", resultado_numero1)\n",
    "print(\"Valor2:\", resultado_numero2)"
   ]
  },
  {
   "cell_type": "code",
   "execution_count": 13,
   "metadata": {},
   "outputs": [
    {
     "name": "stdout",
     "output_type": "stream",
     "text": [
      "Lo siento xd, no podemos entregarle nada tas muy lejos.\n"
     ]
    }
   ],
   "source": [
    "# Pedir al visitante que ingrese el código postal\n",
    "codigo_postal = int(input(\"Ingrese su código postal propio: \"))\n",
    "\n",
    "# verificar si el código postal está dentro del rango de entrega\n",
    "if 50000 <= codigo_postal <= 50030:\n",
    "    print(\"¡Está dentro del rango.podemos entregarte lo que pidas plebe\")\n",
    "else:\n",
    "    print(\"Lo siento xd, no podemos entregarle nada tas muy lejos.\")"
   ]
  }
 ],
 "metadata": {
  "kernelspec": {
   "display_name": "Python 3",
   "language": "python",
   "name": "python3"
  },
  "language_info": {
   "codemirror_mode": {
    "name": "ipython",
    "version": 3
   },
   "file_extension": ".py",
   "mimetype": "text/x-python",
   "name": "python",
   "nbconvert_exporter": "python",
   "pygments_lexer": "ipython3",
   "version": "3.12.2"
  }
 },
 "nbformat": 4,
 "nbformat_minor": 2
}
